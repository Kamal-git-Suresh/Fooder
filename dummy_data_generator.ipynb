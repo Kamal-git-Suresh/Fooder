{
 "cells": [
  {
   "cell_type": "code",
   "execution_count": 9,
   "metadata": {},
   "outputs": [],
   "source": [
    "import pandas as pd\n",
    "import numpy as np"
   ]
  },
  {
   "cell_type": "code",
   "execution_count": 10,
   "metadata": {},
   "outputs": [
    {
     "data": {
      "text/plain": [
       "1         Tomato Paruppu Rasam\n",
       "2                Nargisi Kofta\n",
       "3           Tandoori Fish Wrap\n",
       "4                 Mini Uttapam\n",
       "5               Chocolate Diya\n",
       "                 ...          \n",
       "5145         Christmas Pudding\n",
       "5146         Kolhapuri Chicken\n",
       "5147           Khajurachi Wadi\n",
       "5148    Paneer Aur Pudina Naan\n",
       "5149                   Kharvas\n",
       "Name: Name, Length: 5149, dtype: object"
      ]
     },
     "execution_count": 10,
     "metadata": {},
     "output_type": "execute_result"
    }
   ],
   "source": [
    "dataset = pd.read_csv('../Mini-Project/recipe_details_clean.csv')\n",
    "recipes = dataset['Name'][1:]\n",
    "recipes"
   ]
  },
  {
   "cell_type": "code",
   "execution_count": 15,
   "metadata": {},
   "outputs": [],
   "source": [
    "data = []\n",
    "for i in range (10000):\n",
    "    recipe_str = ''\n",
    "    rand = np.random.randint(3, 15)\n",
    "    for recipe in recipes.sample(rand):\n",
    "        recipe_str += recipe + '^'\n",
    "    data.append(recipe_str[:-1])\n",
    "data\n",
    "data = pd.DataFrame(data)\n",
    "data.to_csv('random_dummy.csv')"
   ]
  },
  {
   "cell_type": "code",
   "execution_count": 12,
   "metadata": {},
   "outputs": [
    {
     "data": {
      "text/html": [
       "<div>\n",
       "<style scoped>\n",
       "    .dataframe tbody tr th:only-of-type {\n",
       "        vertical-align: middle;\n",
       "    }\n",
       "\n",
       "    .dataframe tbody tr th {\n",
       "        vertical-align: top;\n",
       "    }\n",
       "\n",
       "    .dataframe thead th {\n",
       "        text-align: right;\n",
       "    }\n",
       "</style>\n",
       "<table border=\"1\" class=\"dataframe\">\n",
       "  <thead>\n",
       "    <tr style=\"text-align: right;\">\n",
       "      <th></th>\n",
       "      <th>0</th>\n",
       "    </tr>\n",
       "  </thead>\n",
       "  <tbody>\n",
       "    <tr>\n",
       "      <th>0</th>\n",
       "      <td>Moroccan Rice Pudding^Ragi Idli^Nilgiri Kiwi C...</td>\n",
       "    </tr>\n",
       "    <tr>\n",
       "      <th>1</th>\n",
       "      <td>Sindhi Papad-SK Khazana^Chatpate Jeera Aloo^Ch...</td>\n",
       "    </tr>\n",
       "    <tr>\n",
       "      <th>2</th>\n",
       "      <td>Quesadillas^Sweet and Sour Fruits and Vegetabl...</td>\n",
       "    </tr>\n",
       "    <tr>\n",
       "      <th>3</th>\n",
       "      <td>Pineapple Sheera^Palak Paneer Parantha-SK Khaz...</td>\n",
       "    </tr>\n",
       "    <tr>\n",
       "      <th>4</th>\n",
       "      <td>Malai Peda - SK Khazana^Soya Baingan Keema^Gri...</td>\n",
       "    </tr>\n",
       "    <tr>\n",
       "      <th>...</th>\n",
       "      <td>...</td>\n",
       "    </tr>\n",
       "    <tr>\n",
       "      <th>995</th>\n",
       "      <td>Curd Chicken^Naan Pizza^Paneer Corn Balchao^An...</td>\n",
       "    </tr>\n",
       "    <tr>\n",
       "      <th>996</th>\n",
       "      <td>Corn in Hot Garlic Sauce^Sweet Chilli Chutney^...</td>\n",
       "    </tr>\n",
       "    <tr>\n",
       "      <th>997</th>\n",
       "      <td>Urad Pepper Vada -SK Khazana^Prunes and Walnut...</td>\n",
       "    </tr>\n",
       "    <tr>\n",
       "      <th>998</th>\n",
       "      <td>Chicken Grilled with Apple and Leek^Khow Suey ...</td>\n",
       "    </tr>\n",
       "    <tr>\n",
       "      <th>999</th>\n",
       "      <td>Quinoa Mozzarella Burgers^Ajwaini Murg^Marwari...</td>\n",
       "    </tr>\n",
       "  </tbody>\n",
       "</table>\n",
       "<p>1000 rows × 1 columns</p>\n",
       "</div>"
      ],
      "text/plain": [
       "                                                     0\n",
       "0    Moroccan Rice Pudding^Ragi Idli^Nilgiri Kiwi C...\n",
       "1    Sindhi Papad-SK Khazana^Chatpate Jeera Aloo^Ch...\n",
       "2    Quesadillas^Sweet and Sour Fruits and Vegetabl...\n",
       "3    Pineapple Sheera^Palak Paneer Parantha-SK Khaz...\n",
       "4    Malai Peda - SK Khazana^Soya Baingan Keema^Gri...\n",
       "..                                                 ...\n",
       "995  Curd Chicken^Naan Pizza^Paneer Corn Balchao^An...\n",
       "996  Corn in Hot Garlic Sauce^Sweet Chilli Chutney^...\n",
       "997  Urad Pepper Vada -SK Khazana^Prunes and Walnut...\n",
       "998  Chicken Grilled with Apple and Leek^Khow Suey ...\n",
       "999  Quinoa Mozzarella Burgers^Ajwaini Murg^Marwari...\n",
       "\n",
       "[1000 rows x 1 columns]"
      ]
     },
     "execution_count": 12,
     "metadata": {},
     "output_type": "execute_result"
    }
   ],
   "source": [
    "user_data = pd.DataFrame(data)\n",
    "user_data"
   ]
  },
  {
   "cell_type": "code",
   "execution_count": 4,
   "metadata": {},
   "outputs": [
    {
     "data": {
      "text/plain": [
       "Mild              1862\n",
       "Spicy             1523\n",
       "Sweet             1218\n",
       "Tangy              413\n",
       "Sweet & Sour        76\n",
       "Sour                21\n",
       "Select Taste        20\n",
       "Sweet and Sour      17\n",
       "Name: Taste, dtype: int64"
      ]
     },
     "execution_count": 4,
     "metadata": {},
     "output_type": "execute_result"
    }
   ],
   "source": [
    "dataset['Taste'].value_counts()"
   ]
  }
 ],
 "metadata": {
  "kernelspec": {
   "display_name": "Python 3.11.2 64-bit",
   "language": "python",
   "name": "python3"
  },
  "language_info": {
   "codemirror_mode": {
    "name": "ipython",
    "version": 3
   },
   "file_extension": ".py",
   "mimetype": "text/x-python",
   "name": "python",
   "nbconvert_exporter": "python",
   "pygments_lexer": "ipython3",
   "version": "3.11.2"
  },
  "orig_nbformat": 4,
  "vscode": {
   "interpreter": {
    "hash": "de99ddeb2d2381fb5020056214ec1bbf922f164c35cf3f5043fe7a21cf41fba0"
   }
  }
 },
 "nbformat": 4,
 "nbformat_minor": 2
}
